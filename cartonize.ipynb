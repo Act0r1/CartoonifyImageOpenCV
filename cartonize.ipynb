{
 "cells": [
  {
   "cell_type": "code",
   "execution_count": 3,
   "id": "c7a0bb65",
   "metadata": {},
   "outputs": [],
   "source": [
    "import cv2 #for image processing\n",
    "import easygui #to open the filebox\n",
    "import numpy as np #to store image\n",
    "import imageio #to read image stored at particular path\n",
    "import sys\n",
    "import matplotlib.pyplot as plt\n",
    "import os\n",
    "from PIL import ImageTk, Image"
   ]
  },
  {
   "cell_type": "code",
   "execution_count": 33,
   "id": "b7b0caf0",
   "metadata": {},
   "outputs": [],
   "source": [
    "def upload():\n",
    "    imgpath = easygui.fileopenbox()\n",
    "    return imgpath"
   ]
  },
  {
   "cell_type": "code",
   "execution_count": 34,
   "id": "5e6115ce",
   "metadata": {},
   "outputs": [],
   "source": [
    "# size\n",
    "size = (960, 540)\n",
    "def cartonize(imgpath):\n",
    "    # read the image\n",
    "    origImage = cv2.imread(imgpath,0)# already convert image to gray\n",
    "    # check if image chosen\n",
    "    if origImage is None:\n",
    "        print('Can not find any image. Please type correct name')\n",
    "        sys.exit()\n",
    "    #resize\n",
    "    resizedOrigImage = cv2.resize(origImage, size)\n",
    "    \n",
    "    \n",
    "    # converting image\n",
    "    grayScaleImage = cv2.cvtColor(origImage, cv2.COLOR_BAYER_BG2GRAY)\n",
    "    resizedGrayScale = cv2.resize(grayScaleImage, size)\n",
    "    \n",
    "    #smoothening image\n",
    "    smoothGrayScale = cv2.medianBlur(grayScaleImage, 5)\n",
    "    resizedSmoothImage = cv2.resize(smoothGrayScale, size)\n",
    "    \n",
    "    #Retrieving the edges of an image\n",
    "    getEdge = cv2.adaptiveThreshold(\n",
    "        smoothGrayScale, 255,\n",
    "        cv2.ADAPTIVE_THRESH_MEAN_C,\n",
    "        cv2.THRESH_BINARY,9,9\n",
    "    )\n",
    "    ResizedEdgeImage = cv2.resize(getEdge, size)\n",
    "    \n",
    "    \n",
    "    #preparing a mask image\n",
    "    colorImage = cv2.bilateralFilter(origImage, 9, 300, 300)\n",
    "    ResizeColorImage = cv2.resize(colorImage, size)\n",
    "    \n",
    "    # giving Cartoon Effect\n",
    "    cartonImage = cv2.bitwise_and(colorImage, colorImage, mask = getEdge)\n",
    "    ResizeCartonImage = cv2.resize(cartonImage, size)\n",
    "    \n",
    "    #finish, plotting our image\n",
    "    images = [resizedOrigImage,resizedGrayScale,resizedSmoothImage,ResizedEdgeImage,ResizeColorImage,ResizeCartonImage]\n",
    "    fig, ax = plt.subplots(3,2, figsize=(8,8), subplot_kw={'xticks': [], 'yticks':[]}, gridspec_kw=dict(hspace=.1, wspace=.8))\n",
    "    for i, ax in enumerate(ax.flat):\n",
    "        ax.imshow(images[i], cmap='gray')\n",
    "    \n",
    "    \n",
    "    return ResizeCartonImage"
   ]
  },
  {
   "cell_type": "code",
   "execution_count": 43,
   "id": "db5d85df",
   "metadata": {},
   "outputs": [],
   "source": [
    "# let's save our photos\n",
    "def save(ResizeCartonImage, imgpath):\n",
    "    newName = 'cartoonified_image'\n",
    "    path1 = os.path.dirname(imgpath)\n",
    "    extension = os.path.splitext(imgpath)[1]\n",
    "    path = os.path.join(path1, newName+extension)\n",
    "    cv2.imwrite(path, ResizeCartonImage)"
   ]
  },
  {
   "cell_type": "code",
   "execution_count": 44,
   "id": "918ca2e9",
   "metadata": {},
   "outputs": [],
   "source": [
    "def main():\n",
    "    imagepath = upload()\n",
    "    img = cartonize(imagepath)\n",
    "    save(img, imagepath)"
   ]
  },
  {
   "cell_type": "code",
   "execution_count": null,
   "id": "597195cd",
   "metadata": {},
   "outputs": [],
   "source": [
    "main()"
   ]
  }
 ],
 "metadata": {
  "kernelspec": {
   "display_name": "Python 3",
   "language": "python",
   "name": "python3"
  }
 },
 "nbformat": 4,
 "nbformat_minor": 5
}
